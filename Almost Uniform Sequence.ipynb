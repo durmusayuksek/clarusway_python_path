{
 "cells": [
  {
   "cell_type": "markdown",
   "metadata": {},
   "source": [
    "```\n",
    "Find the length of the longest sub-sequence of two distinct numbers whose difference is 1. A sub-sequence can be made by deleting any numbers in between.\n",
    "\n",
    "Examples\n",
    "almost_uniform([1, 3, 2, 2, 5, 2, 3, 7]) ➞ 5\n",
    "# [3, 2, 2, 2, 3]\n",
    "\n",
    "almost_uniform([1, 2, 3, 4]) ➞ 2\n",
    "# [1, 2] or [2, 3] or [3, 4]\n",
    "\n",
    "almost_uniform([1, 1, 1, 1]) ➞ 0\n",
    "# There is no sub-sequence of two distinct numbers.\n",
    "```"
   ]
  },
  {
   "cell_type": "code",
   "execution_count": 38,
   "metadata": {},
   "outputs": [
    {
     "data": {
      "text/plain": [
       "[[3, 3, 3, 2, 2, 2, 2, 2]]"
      ]
     },
     "execution_count": 38,
     "metadata": {},
     "output_type": "execute_result"
    }
   ],
   "source": [
    "def almost_uniform(liste):\n",
    "    dictt = {}\n",
    "    for i in liste:\n",
    "        dictt[i] = [i for a in range(liste.count(i))]\n",
    "        for j in liste:\n",
    "            if i - j == 1:\n",
    "                dictt[i] += [j]\n",
    "    en_b = []\n",
    "    en_b_list = []\n",
    "    for k,v in dictt.items():\n",
    "        if len(v) > len(en_b):\n",
    "            en_b = v\n",
    "    en_b_list.append(en_b)\n",
    "    for k,v in dictt.items():\n",
    "        if len(v) == len(en_b) and v not in en_b_list:\n",
    "            en_b_list.append(v)\n",
    "    if len(en_b_list) == 1 and en_b_list[0] == liste:\n",
    "        return 0\n",
    "    else:\n",
    "        return en_b_list\n",
    "\n",
    "# almost_uniform([1,2,3,4,5,6,7,8,9])\n",
    "almost_uniform([1, 3, 2, 2, 5, 2, 3, 7, 4, 4, 3, 2, 2, 4, 6, 5, 5, 5])"
   ]
  },
  {
   "cell_type": "code",
   "execution_count": null,
   "metadata": {},
   "outputs": [],
   "source": []
  }
 ],
 "metadata": {
  "kernelspec": {
   "display_name": "Python 3 (ipykernel)",
   "language": "python",
   "name": "python3"
  },
  "language_info": {
   "codemirror_mode": {
    "name": "ipython",
    "version": 3
   },
   "file_extension": ".py",
   "mimetype": "text/x-python",
   "name": "python",
   "nbconvert_exporter": "python",
   "pygments_lexer": "ipython3",
   "version": "3.8.5"
  }
 },
 "nbformat": 4,
 "nbformat_minor": 4
}
