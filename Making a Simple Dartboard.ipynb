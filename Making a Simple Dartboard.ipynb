{
 "cells": [
  {
   "cell_type": "markdown",
   "metadata": {},
   "source": [
    "```\n",
    "Create a function which creates a square dartboard of side length n. The value of a number should increase, the closer it is to the centre of the board.\n",
    "\n",
    "Examples\n",
    "make_dartboard(3) ➞ [\n",
    "  111,\n",
    "  121,\n",
    "  111\n",
    "]\n",
    "\n",
    "make_dartboard(8) ➞ [\n",
    "  11111111,\n",
    "  12222221,\n",
    "  12333321,\n",
    "  12344321,\n",
    "  12344321,\n",
    "  12333321,\n",
    "  12222221,\n",
    "  11111111\n",
    "]\n",
    "\n",
    "make_dartboard(5) ➞ [\n",
    "  11111,\n",
    "  12221,\n",
    "  12321,\n",
    "  12221,\n",
    "  11111\n",
    "]\n",
    "Notes\n",
    "If the size given is an even number, the centre should be made up of the 4 highest values.\n",
    "```"
   ]
  },
  {
   "cell_type": "code",
   "execution_count": 65,
   "metadata": {},
   "outputs": [
    {
     "data": {
      "text/plain": [
       "[11111111111,\n",
       " 12222222221,\n",
       " 12333333321,\n",
       " 12344444321,\n",
       " 12345554321,\n",
       " 12345654321,\n",
       " 12345554321,\n",
       " 12344444321,\n",
       " 12333333321,\n",
       " 12222222221,\n",
       " 11111111111]"
      ]
     },
     "execution_count": 65,
     "metadata": {},
     "output_type": "execute_result"
    }
   ],
   "source": [
    "def dartboard(n):\n",
    "    res = ''\n",
    "    if n % 2 == 0:\n",
    "        cift = True\n",
    "        k = n // 2\n",
    "    else:\n",
    "        cift = False\n",
    "        k = (n + 1) // 2\n",
    "\n",
    "    for i in range(1, k + 1):\n",
    "        res += str(i)\n",
    "\n",
    "    a = 1\n",
    "    b = n - 2\n",
    "    c = 1\n",
    "    liste = []\n",
    "    for i in range(k):\n",
    "        liste.append(int(res[0:a] + str(c) * b + res[0:a][::-1]))\n",
    "        if not cift and b == 1:\n",
    "            c += 1\n",
    "        else:\n",
    "            a += 1\n",
    "            b -= 2\n",
    "            c += 1\n",
    "\n",
    "    if cift: ind = -1\n",
    "    else: ind = -2\n",
    "\n",
    "    for i in liste[ind::-1]:\n",
    "        liste.append(i)\n",
    "    return liste\n",
    "\n",
    "dartboard(11)"
   ]
  },
  {
   "cell_type": "code",
   "execution_count": null,
   "metadata": {},
   "outputs": [],
   "source": []
  }
 ],
 "metadata": {
  "kernelspec": {
   "display_name": "Python 3 (ipykernel)",
   "language": "python",
   "name": "python3"
  },
  "language_info": {
   "codemirror_mode": {
    "name": "ipython",
    "version": 3
   },
   "file_extension": ".py",
   "mimetype": "text/x-python",
   "name": "python",
   "nbconvert_exporter": "python",
   "pygments_lexer": "ipython3",
   "version": "3.8.5"
  }
 },
 "nbformat": 4,
 "nbformat_minor": 4
}
