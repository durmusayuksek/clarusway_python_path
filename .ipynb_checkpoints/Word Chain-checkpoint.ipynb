{
 "cells": [
  {
   "cell_type": "markdown",
   "metadata": {},
   "source": [
    "```\n",
    "Let's update our previous word-chain definition. In this 2.0 version, a word-chain is an array of words, where the next word is formed by either:\n",
    "\n",
    "Changing exactly one letter from the previous word\n",
    "Adding or subtracting one letter\n",
    "Note: You can only do one (not both) for each word change.\n",
    "\n",
    "Examples\n",
    "isWordChain([\"row\", \"crow\", \"crown\", \"brown\", \"brawn\"]) ➞ True\n",
    "# add \"c\" to \"row\" to get \"crow\", \"n\" to get \"crown\", etc. \n",
    "\n",
    "isWordChain([\"flew\", \"flaw\", \"flan\", \"flat\", \"fat\", \"rat\", \"rot\", \"tot\"]) ➞ True\n",
    "\n",
    "isWordChain([\"meek\", \"meet\", \"meat\", \"teal\"]) ➞ False\n",
    "# \"meat\" => \"teal\" changes 2 letters (can only change 1)\n",
    "\n",
    "isWordChain([\"run\", \"runny\", \"bunny\"]) ➞ False\n",
    "# \"run\" => \"runny\" adds 2 letters (can only add 1)\n",
    "Notes\n",
    "All words will be in lower-case.\n",
    "```"
   ]
  },
  {
   "cell_type": "code",
   "execution_count": 12,
   "metadata": {},
   "outputs": [
    {
     "data": {
      "text/plain": [
       "False"
      ]
     },
     "execution_count": 12,
     "metadata": {},
     "output_type": "execute_result"
    }
   ],
   "source": [
    "def kelime(x, y):\n",
    "    if len(x) == len(y):\n",
    "        a = 0\n",
    "        for i in range(len(x)):\n",
    "            if x[i] != y[i]:\n",
    "                a += 1\n",
    "        if a > 1:\n",
    "            return False\n",
    "        else:\n",
    "            return True\n",
    "    else:\n",
    "        if len(x) - len(y) == 1 or len(y) - len(x) == 1: \n",
    "            if len(x) > len(y):\n",
    "                for i in range(len(y)):\n",
    "                    x = x.replace(y[i], '')\n",
    "                if len(x) == 1:\n",
    "                    return True\n",
    "                else:\n",
    "                    return False\n",
    "            else:\n",
    "                for i in range(len(x)):\n",
    "                    y = y.replace(x[i], '')\n",
    "                if len(y) == 1:\n",
    "                    return True\n",
    "                else:\n",
    "                    return False\n",
    "        else:\n",
    "            return False\n",
    "        \n",
    "def isWordChain(liste):\n",
    "    a = 0\n",
    "    sonuc = True\n",
    "    while True:\n",
    "        text = liste[a]\n",
    "        if not kelime(liste[a], liste[a + 1]):\n",
    "            sonuc = False\n",
    "            break\n",
    "        if a == len(liste) - 2:\n",
    "            break\n",
    "        a += 1\n",
    "    return sonuc\n",
    "        \n",
    "isWordChain([\"run\", \"runny\", \"bunny\"])"
   ]
  },
  {
   "cell_type": "code",
   "execution_count": null,
   "metadata": {},
   "outputs": [],
   "source": []
  }
 ],
 "metadata": {
  "kernelspec": {
   "display_name": "Python 3 (ipykernel)",
   "language": "python",
   "name": "python3"
  },
  "language_info": {
   "codemirror_mode": {
    "name": "ipython",
    "version": 3
   },
   "file_extension": ".py",
   "mimetype": "text/x-python",
   "name": "python",
   "nbconvert_exporter": "python",
   "pygments_lexer": "ipython3",
   "version": "3.8.5"
  }
 },
 "nbformat": 4,
 "nbformat_minor": 4
}
