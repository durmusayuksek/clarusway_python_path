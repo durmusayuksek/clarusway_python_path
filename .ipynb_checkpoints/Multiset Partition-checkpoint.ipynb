{
 "cells": [
  {
   "cell_type": "markdown",
   "metadata": {},
   "source": [
    "```\n",
    "This problem was asked by Facebook.\n",
    "Given a multiset of integers, return whether it can be partitioned into two subsets whose sums are the same.\n",
    "For example, given the multiset {15, 5, 20, 10, 35, 15, 10}, it would return true, since we can split it up into {15, 5, 10, 15, 10} and {20, 35}, which both add up to 55.\n",
    "Given the multiset {15, 5, 20, 10, 35}, it would return false, since we can't split it up into two subsets that add up to the same sum.\n",
    "```"
   ]
  },
  {
   "cell_type": "code",
   "execution_count": 24,
   "metadata": {},
   "outputs": [
    {
     "name": "stdout",
     "output_type": "stream",
     "text": [
      "True\n"
     ]
    }
   ],
   "source": [
    "import random\n",
    "import re\n",
    "\n",
    "text = '''{15, 5, 20, 10, 35, 15, 10, 15, 45, 40, 25, 15}'''\n",
    "liste = re.findall('([0-9]+)', text)\n",
    "liste = [int(i) for i in liste]\n",
    "\n",
    "count = 0\n",
    "sonuc = False\n",
    "ind_list, gecici = [], []\n",
    "if sum(liste) % 2 != 0:\n",
    "    print(False)\n",
    "else:\n",
    "    yari = sum(liste) // 2\n",
    "    while True:\n",
    "        index = random.choice(list(range(len(liste))))\n",
    "        if index not in ind_list:\n",
    "            ind_list.append(index)\n",
    "            gecici.append(liste[index])\n",
    "            toplam = sum(gecici)\n",
    "            if toplam == yari:\n",
    "                diger = [i for i in liste if i not in gecici]\n",
    "                diger_toplam = sum(diger)\n",
    "                if toplam == diger_toplam:\n",
    "                    sonuc = True\n",
    "                    break\n",
    "            elif toplam < yari:\n",
    "                continue\n",
    "            else:\n",
    "                ind_list = []\n",
    "                gecici = []\n",
    "        count += 1\n",
    "        if count == 10000:\n",
    "            break\n",
    "    if sonuc:\n",
    "        print(True)\n",
    "    else:\n",
    "        print(False)"
   ]
  },
  {
   "cell_type": "code",
   "execution_count": null,
   "metadata": {},
   "outputs": [],
   "source": []
  }
 ],
 "metadata": {
  "kernelspec": {
   "display_name": "Python 3 (ipykernel)",
   "language": "python",
   "name": "python3"
  },
  "language_info": {
   "codemirror_mode": {
    "name": "ipython",
    "version": 3
   },
   "file_extension": ".py",
   "mimetype": "text/x-python",
   "name": "python",
   "nbconvert_exporter": "python",
   "pygments_lexer": "ipython3",
   "version": "3.8.5"
  }
 },
 "nbformat": 4,
 "nbformat_minor": 4
}
