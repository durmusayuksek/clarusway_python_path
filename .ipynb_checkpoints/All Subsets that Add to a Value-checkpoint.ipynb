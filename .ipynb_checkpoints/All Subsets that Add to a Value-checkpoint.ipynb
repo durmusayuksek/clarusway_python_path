{
 "cells": [
  {
   "cell_type": "markdown",
   "metadata": {},
   "source": [
    "```\n",
    "Create a function that returns all sublists in a list that sum to a particular value. Return the sublists in the following order:\n",
    "\n",
    "First by ascending length.\n",
    "Second by comparing element-by-element, starting from the leftmost one. Put the list with the smaller element first in the pairwise comparison.\n",
    "The following example will illustrate:\n",
    "\n",
    "get_subsets([-3, -2, -1, 0, 1, 2, 3], 2)\n",
    "[ # All the subsets below sum to 2.\n",
    "  [2],\n",
    "  [-1, 3],\n",
    "  [0, 2], # Same length: -1 < 0, so [-1, 3] goes before [0, 2]\n",
    "  [-3, 2, 3],\n",
    "  [-2, 1, 3],\n",
    "  [-1, 0, 3],\n",
    "  [-1, 1, 2],\n",
    "  [-3, 0, 2, 3],\n",
    "  [-2, -1, 2, 3],\n",
    "  [-2, 0, 1, 3], # Same length + same first element: -1 < 0, so [-2, -1, 2, 3] goes before [-2, 0, 1, 3]\n",
    "  [-1, 0, 1, 2],\n",
    "  [-3, -1, 1, 2, 3],\n",
    "  [-2, -1, 0, 2, 3],\n",
    "  [-3, -1, 0, 1, 2, 3]\n",
    "]\n",
    "\n",
    "Examples\n",
    "get_subsets([-1, 0, 1, 2], 2) ➞ [[2], [0, 2], [-1, 1, 2], [-1, 0, 1, 2]]\n",
    "\n",
    "get_subsets([-1, 0, 1, 2], 3) ➞ [[1, 2], [0, 1, 2]]\n",
    "\n",
    "get_subsets([1, 2, 3, 4], 5) ➞ [[1, 4], [2, 3]]\n",
    "\n",
    "get_subsets([-1, 0, 1, 2], 4) ➞ []\n",
    "Notes\n",
    "Lists will have unique numbers.\n",
    "Return an empty list if there does not a exist a subset whose numbers sum to that value (see fourth example).\n",
    "```"
   ]
  },
  {
   "cell_type": "code",
   "execution_count": 23,
   "metadata": {},
   "outputs": [
    {
     "data": {
      "text/plain": [
       "[[2],\n",
       " [-1, 3],\n",
       " [0, 2],\n",
       " [-3, 2, 3],\n",
       " [-2, 1, 3],\n",
       " [-1, 0, 3],\n",
       " [-1, 1, 2],\n",
       " [-3, 0, 2, 3],\n",
       " [-2, -1, 2, 3],\n",
       " [-2, 0, 1, 3],\n",
       " [-1, 0, 1, 2],\n",
       " [-3, -1, 1, 2, 3],\n",
       " [-2, -1, 0, 2, 3],\n",
       " [-3, -1, 0, 1, 2, 3]]"
      ]
     },
     "execution_count": 23,
     "metadata": {},
     "output_type": "execute_result"
    }
   ],
   "source": [
    "def subset(liste, k):\n",
    "    res = [[]]\n",
    "    resa = []\n",
    "    for i in liste:\n",
    "        for j in res:\n",
    "            res = res + [j + [i]]\n",
    "            if sum(res[-1]) == k:\n",
    "                resa.append(res[-1])\n",
    "    resa = sorted(resa, key = lambda x : len(x), reverse = True)\n",
    "    return resa[::-1]\n",
    "\n",
    "subset([-3, -2, -1, 0, 1, 2, 3], 2)"
   ]
  },
  {
   "cell_type": "code",
   "execution_count": null,
   "metadata": {},
   "outputs": [],
   "source": []
  }
 ],
 "metadata": {
  "kernelspec": {
   "display_name": "Python 3 (ipykernel)",
   "language": "python",
   "name": "python3"
  },
  "language_info": {
   "codemirror_mode": {
    "name": "ipython",
    "version": 3
   },
   "file_extension": ".py",
   "mimetype": "text/x-python",
   "name": "python",
   "nbconvert_exporter": "python",
   "pygments_lexer": "ipython3",
   "version": "3.8.5"
  }
 },
 "nbformat": 4,
 "nbformat_minor": 4
}
