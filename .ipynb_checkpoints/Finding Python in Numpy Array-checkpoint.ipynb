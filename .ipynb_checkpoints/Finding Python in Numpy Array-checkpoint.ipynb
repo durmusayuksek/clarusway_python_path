{
 "cells": [
  {
   "cell_type": "markdown",
   "metadata": {},
   "source": [
    "```\n",
    "Write a NumPy program to count a given word in each row of a given array of string values.\n",
    "Sample output:\n",
    "Original array of string values:\n",
    "[['Python' 'NumPy' 'Exercises']\n",
    "['Python' 'Pandas' 'Exercises']\n",
    "['Python' 'Machine learning' 'Python']]\n",
    "Count 'Python' row wise in the above array of string values:\n",
    "[[1 0 0]\n",
    "[1 0 0]\n",
    "[1 0 1]]\n",
    "```"
   ]
  },
  {
   "cell_type": "code",
   "execution_count": 2,
   "metadata": {},
   "outputs": [
    {
     "data": {
      "text/plain": [
       "array([['1', '0', '0'],\n",
       "       ['1', '0', '0'],\n",
       "       ['1', '0', '1']], dtype='<U16')"
      ]
     },
     "execution_count": 2,
     "metadata": {},
     "output_type": "execute_result"
    }
   ],
   "source": [
    "import numpy as np\n",
    "a = [['Python', 'NumPy', 'Exercises'],\n",
    "['Python', 'Pandas', 'Exercises'],\n",
    "['Python', 'Machine learning', 'Python']]\n",
    "b = np.array(a)\n",
    "b.shape[0]\n",
    "for i in range(b.shape[0]):\n",
    "    for j in range(b.shape[0]):\n",
    "        if b[i,j] == 'Python':\n",
    "            b[i,j] = 1\n",
    "        else:\n",
    "            b[i,j] = 0\n",
    "b"
   ]
  },
  {
   "cell_type": "code",
   "execution_count": null,
   "metadata": {},
   "outputs": [],
   "source": []
  }
 ],
 "metadata": {
  "kernelspec": {
   "display_name": "Python 3 (ipykernel)",
   "language": "python",
   "name": "python3"
  },
  "language_info": {
   "codemirror_mode": {
    "name": "ipython",
    "version": 3
   },
   "file_extension": ".py",
   "mimetype": "text/x-python",
   "name": "python",
   "nbconvert_exporter": "python",
   "pygments_lexer": "ipython3",
   "version": "3.8.5"
  }
 },
 "nbformat": 4,
 "nbformat_minor": 4
}
