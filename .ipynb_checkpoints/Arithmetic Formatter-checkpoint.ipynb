{
 "cells": [
  {
   "cell_type": "markdown",
   "metadata": {},
   "source": [
    "```\n",
    "Assignment\n",
    "Students in primary school often arrange arithmetic problems vertically to make them easier to solve. For example, \"235 + 52\" becomes:\n",
    "\n",
    "  235\n",
    "+  52\n",
    "-----\n",
    "\n",
    "Create a function that receives a list of strings that are arithmetic problems and returns the problems arranged vertically and side-by-side. The function should optionally take a second argument. When the second argument is set to True, the answers should be displayed.\n",
    "\n",
    "Rules\n",
    "The function will return the correct conversion if the supplied problems are properly formatted, otherwise, it will return a string that describes an error that is meaningful to the user.\n",
    "\n",
    "Situations that will return an error:\n",
    "If there are too many problems supplied to the function. The limit is five, anything more will return: Error: Too many problems.\n",
    "The appropriate operators the function will accept are addition and subtraction. Multiplication and division will return an error. Other operators not mentioned in this bullet point will not need to be tested. The error returned will be: Error: Operator must be '+' or '-'.\n",
    "Each number (operand) should only contain digits. Otherwise, the function will return: Error: Numbers must only contain digits.\n",
    "Each operand (aka number on each side of the operator) has a max of four digits in width. Otherwise, the error string returned will be: Error: Numbers cannot be more than four digits.\n",
    "\n",
    "If the user supplied the correct format of problems, the conversion you return will follow these rules:\n",
    "There should be a single space between the operator and the longest of the two operands, the operator will be on the same line as the second operand, both operands will be in the same order as provided (the first will be the top one and the second will be the bottom.\n",
    "Numbers should be right-aligned.\n",
    "There should be four spaces between each problem.\n",
    "There should be dashes at the bottom of each problem. The dashes should run along the entire length of each problem individually. (The example above shows what this should look like.)\n",
    "\n",
    "Development\n",
    "Write your code in arithmetic_arranger.py. For development, you can use main.py to test your arithmetic_arranger() function. Click the \"run\" button and main.py will run.\n",
    "\n",
    "Testing\n",
    "The unit tests for this project are in test_module.py. We are running the tests from test_module.py in main.py for your convenience. The tests will run automatically whenever you hit the \"run\" button. Alternatively you may run the tests by inputting pytest in the console.\n",
    "\n",
    "Submitting\n",
    "Copy your project's URL and submit it to freeCodeCamp.\n",
    "```"
   ]
  },
  {
   "cell_type": "code",
   "execution_count": 133,
   "metadata": {},
   "outputs": [
    {
     "name": "stdout",
     "output_type": "stream",
     "text": [
      "   32      380      450      123      123    \n",
      "+ 698    +   2    +  43    -  49    -  49    \n",
      "-----    -----    -----    -----    -----    \n",
      "  730      382      493       74       74    \n"
     ]
    }
   ],
   "source": [
    "def arithmetic_arranger(liste, n = False):\n",
    "    bol, en = [], []\n",
    "    toplam = ''\n",
    "    if len(liste) > 5:\n",
    "        return 'Error: Too many problems.'\n",
    "    for i in liste:\n",
    "        if \"\\\\\" in i or \"*\" in i:\n",
    "            return \"Operator must be '+' or '-'.\"\n",
    "        i = i.split(' ')\n",
    "        bol.append(i)\n",
    "    for i in bol:\n",
    "        if not i[0].isdigit() or not i[2].isdigit():\n",
    "            return 'Error: Numbers must only contain digits.'\n",
    "        if len(i[0]) > 4 or len(i[2]) > 4:\n",
    "            return 'Error: Numbers cannot be more than four digits.'\n",
    "        en_uzun = 0\n",
    "        for j in i:\n",
    "            if len(j) > en_uzun:\n",
    "                en_uzun = len(j)\n",
    "        en.append(en_uzun + 2)\n",
    "    for j in range(len(bol)):\n",
    "        toplam += (en[j] - len(bol[j][0])) * ' ' + bol[j][0] + '    '\n",
    "    toplam += '\\n'\n",
    "    for j in range(len(bol)):\n",
    "        toplam += bol[j][1] + ' ' * ((en[j] - 1) - len(bol[j][2])) + bol[j][2] + '    '\n",
    "    toplam += '\\n'\n",
    "    for j in range(len(bol)):\n",
    "        toplam += en[j] * '-' + '    '\n",
    "    if n is True:\n",
    "        toplam += '\\n'\n",
    "        for j in range(len(bol)):\n",
    "            if bol[j][1] == '+':\n",
    "                sonuc = int(bol[j][0]) + int(bol[j][2])\n",
    "            elif bol[j][1] == '-':\n",
    "                sonuc = int(bol[j][0]) - int(bol[j][2])\n",
    "            toplam += (en[j] - len(str(sonuc))) * ' ' + str(sonuc) + '    '\n",
    "        return toplam\n",
    "    else:\n",
    "        return toplam\n",
    "\n",
    "print(arithmetic_arranger([\"32 + 698\", \"380 + 2\", \"450 + 43\", \"123 - 49\", \"123 - 49\"], True)) "
   ]
  },
  {
   "cell_type": "code",
   "execution_count": null,
   "metadata": {},
   "outputs": [],
   "source": []
  }
 ],
 "metadata": {
  "kernelspec": {
   "display_name": "Python 3 (ipykernel)",
   "language": "python",
   "name": "python3"
  },
  "language_info": {
   "codemirror_mode": {
    "name": "ipython",
    "version": 3
   },
   "file_extension": ".py",
   "mimetype": "text/x-python",
   "name": "python",
   "nbconvert_exporter": "python",
   "pygments_lexer": "ipython3",
   "version": "3.8.5"
  }
 },
 "nbformat": 4,
 "nbformat_minor": 4
}
