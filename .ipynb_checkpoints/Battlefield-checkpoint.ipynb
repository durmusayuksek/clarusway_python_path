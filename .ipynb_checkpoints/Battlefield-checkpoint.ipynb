{
 "cells": [
  {
   "cell_type": "markdown",
   "metadata": {},
   "source": [
    "```\n",
    "There is a war and nobody knows - the alphabet war!\n",
    "The letters hide in their nuclear shelters. The nuclear strikes hit the battlefield and killed a lot of them.\n",
    "Task\n",
    "Write a function that accepts battlefield string and returns letters that survived the nuclear strike.\n",
    "The battlefield string consists of only small letters, #,[ and ].\n",
    "The nuclear shelter is represented by square brackets []. The letters inside the square brackets represent letters inside the shelter.\n",
    "The # means a place where nuclear strike hit the battlefield. If there is at least one # on the battlefield, all letters outside of shelter die. When there is no any # on the battlefield, all letters survive (but do not expect such scenario too often ;-P ).\n",
    "The shelters have some durability. When 2 or more # hit close to the shelter, the shelter is destroyed and all letters inside evaporate. The 'close to the shelter' means on the ground between the shelter and the next shelter (or beginning/end of battlefield). The below samples make it clear for you.\n",
    "Example\n",
    "abde[fgh]ijk     => \"abdefghijk\"  (all letters survive because there is no # )\n",
    "ab#de[fgh]ijk    => \"fgh\" (all letters outside die because there is a # )\n",
    "ab#de[fgh]ij#k   => \"\"  (all letters dies, there are 2 # close to the shellter )\n",
    "##abde[fgh]ijk   => \"\"  (all letters dies, there are 2 # close to the shellter )\n",
    "##abde[fgh]ijk[mn]op => \"mn\" (letters from the second shelter survive, there is no # close)\n",
    "#ab#de[fgh]ijk[mn]op => \"mn\" (letters from the second shelter survive, there is no # close)\n",
    "#abde[fgh]i#jk[mn]op => \"mn\" (letters from the second shelter survive, there is only 1 # close)\n",
    "[a]#[b]#[c]  => \"ac\"\n",
    "[a]#b#[c][d] => \"d\"\n",
    "[a][b][c]    => \"abc\"\n",
    "##a[a]b[c]#  => \"c\"\n",
    "```"
   ]
  },
  {
   "cell_type": "code",
   "execution_count": 11,
   "metadata": {},
   "outputs": [
    {
     "data": {
      "text/plain": [
       "'a'"
      ]
     },
     "execution_count": 11,
     "metadata": {},
     "output_type": "execute_result"
    }
   ],
   "source": [
    "def battlefield(text):\n",
    "    ac, kapat, bomba, res, resa, result = [], [], [], [], [], []\n",
    "    a = 0\n",
    "    sonuc = ''\n",
    "    for i in range(len(text)):\n",
    "        if text[i] == '#':\n",
    "            bomba.append(i)\n",
    "        elif text[i] == '[':\n",
    "            ac.append(i)\n",
    "        elif text[i] == ']':\n",
    "            kapat.append(i)\n",
    "    survive = list(map(lambda *x : [*x], ac, kapat))\n",
    "    if bomba != []:\n",
    "        for i in survive:\n",
    "            if i[0] != 0:\n",
    "                for j in text[i[0] - 1::-1]:\n",
    "                    if j == '#':\n",
    "                        a += 1\n",
    "                    if j == '[' or j == ']':\n",
    "                        break\n",
    "            res.append(a)\n",
    "            a = 0\n",
    "            for j in text[i[1] + 1:]:\n",
    "                if j == '#':\n",
    "                    a += 1\n",
    "                if j == '[' or j == ']':\n",
    "                    break\n",
    "            res.append(a)\n",
    "            a = 0\n",
    "        for i in range(0, len(res), 2):\n",
    "            b = res[i] + res[i + 1]\n",
    "            resa.append(b)\n",
    "        for i in range(len(resa)):\n",
    "            if resa[i] <= 1:\n",
    "                result.append(survive[i])\n",
    "        for i in result:\n",
    "            sonuc += (text[i[0] + 1:i[1]])\n",
    "        return sonuc\n",
    "    else:\n",
    "        while '[' in text or ']' in text:\n",
    "            text = text.replace('[', '').replace(']', '')\n",
    "        return text\n",
    "\n",
    "battlefield('[a]abc#[ab]ag#b[dsds]#')"
   ]
  },
  {
   "cell_type": "code",
   "execution_count": null,
   "metadata": {},
   "outputs": [],
   "source": []
  }
 ],
 "metadata": {
  "kernelspec": {
   "display_name": "Python 3 (ipykernel)",
   "language": "python",
   "name": "python3"
  },
  "language_info": {
   "codemirror_mode": {
    "name": "ipython",
    "version": 3
   },
   "file_extension": ".py",
   "mimetype": "text/x-python",
   "name": "python",
   "nbconvert_exporter": "python",
   "pygments_lexer": "ipython3",
   "version": "3.8.5"
  }
 },
 "nbformat": 4,
 "nbformat_minor": 4
}
