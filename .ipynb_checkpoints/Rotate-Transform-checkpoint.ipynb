{
 "cells": [
  {
   "cell_type": "markdown",
   "metadata": {},
   "source": [
    "```\n",
    "Create a function to rotate a two-dimensional matrix of N * N integer elements num times, where if num is positive, the rotation is clockwise, and if not, counterclockwise.\n",
    "\n",
    "Examples\n",
    "rotate_transform([\n",
    "  [2, 4],\n",
    "  [0, 0]\n",
    "], 1) ➞ [\n",
    "  [0, 2],\n",
    "  [0, 4]\n",
    "]\n",
    "rotate_transform([\n",
    "  [2, 4],\n",
    "  [0, 0]\n",
    "], -1) ➞ [\n",
    "  [4, 0],\n",
    "  [2, 0]\n",
    "]\n",
    "```"
   ]
  },
  {
   "cell_type": "code",
   "execution_count": 4,
   "metadata": {},
   "outputs": [
    {
     "data": {
      "text/plain": [
       "[[4, 0], [2, 0]]"
      ]
     },
     "execution_count": 4,
     "metadata": {},
     "output_type": "execute_result"
    }
   ],
   "source": [
    "def rotate_transform(liste, n = 1):    \n",
    "    donusum = {-1 : 3, -2 : 2, -3 : 1, -4 : 4}\n",
    "    if n < 0:n = donusum[n]\n",
    "    a = 0\n",
    "    while a < n:\n",
    "        liste = list(map(lambda *x : [*x[::-1]], *liste))\n",
    "        a += 1\n",
    "    return liste\n",
    "\n",
    "rotate_transform([\n",
    "  [2, 4],\n",
    "  [0, 0]\n",
    "], -1)"
   ]
  },
  {
   "cell_type": "code",
   "execution_count": null,
   "metadata": {},
   "outputs": [],
   "source": []
  }
 ],
 "metadata": {
  "kernelspec": {
   "display_name": "Python 3 (ipykernel)",
   "language": "python",
   "name": "python3"
  },
  "language_info": {
   "codemirror_mode": {
    "name": "ipython",
    "version": 3
   },
   "file_extension": ".py",
   "mimetype": "text/x-python",
   "name": "python",
   "nbconvert_exporter": "python",
   "pygments_lexer": "ipython3",
   "version": "3.8.5"
  }
 },
 "nbformat": 4,
 "nbformat_minor": 4
}
