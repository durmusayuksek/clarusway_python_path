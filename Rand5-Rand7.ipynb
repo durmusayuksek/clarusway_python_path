{
 "cells": [
  {
   "cell_type": "markdown",
   "metadata": {},
   "source": [
    "```\n",
    "This problem was asked by Two Sigma.\n",
    "Using a function rand5() that returns an integer from 1 to 5 (inclusive)\n",
    "with uniform probability, implement a function rand7() that returns an\n",
    "integer from 1 to 7 (inclusive).\n",
    "```"
   ]
  },
  {
   "cell_type": "code",
   "execution_count": 42,
   "metadata": {},
   "outputs": [
    {
     "data": {
      "text/plain": [
       "7"
      ]
     },
     "execution_count": 42,
     "metadata": {},
     "output_type": "execute_result"
    }
   ],
   "source": [
    "import random\n",
    "\n",
    "def rand5():\n",
    "    return random.randint(1,5)\n",
    "    \n",
    "def rand7():\n",
    "    a = rand5()\n",
    "    b = 7 - a\n",
    "    return random.choice([i for i in range(1, a + b + 1)])\n",
    "\n",
    "rand7()"
   ]
  },
  {
   "cell_type": "code",
   "execution_count": 2,
   "metadata": {},
   "outputs": [
    {
     "data": {
      "text/plain": [
       "4"
      ]
     },
     "execution_count": 2,
     "metadata": {},
     "output_type": "execute_result"
    }
   ],
   "source": [
    "import random\n",
    "\n",
    "def rand7():\n",
    "    def rand5():\n",
    "        return random.randint(1,5)\n",
    "    a = rand5()\n",
    "    b = 7 - a\n",
    "    return random.choice([i for i in range(1, a + b + 1)])\n",
    "\n",
    "rand7()"
   ]
  },
  {
   "cell_type": "code",
   "execution_count": null,
   "metadata": {},
   "outputs": [],
   "source": []
  }
 ],
 "metadata": {
  "kernelspec": {
   "display_name": "Python 3 (ipykernel)",
   "language": "python",
   "name": "python3"
  },
  "language_info": {
   "codemirror_mode": {
    "name": "ipython",
    "version": 3
   },
   "file_extension": ".py",
   "mimetype": "text/x-python",
   "name": "python",
   "nbconvert_exporter": "python",
   "pygments_lexer": "ipython3",
   "version": "3.8.5"
  }
 },
 "nbformat": 4,
 "nbformat_minor": 4
}
