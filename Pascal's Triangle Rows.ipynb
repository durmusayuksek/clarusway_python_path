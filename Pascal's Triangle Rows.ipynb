{
 "cells": [
  {
   "cell_type": "markdown",
   "metadata": {},
   "source": [
    "```\n",
    "Create a function that returns the nth row of Pascal's triangle:\n",
    "\n",
    "Pascals triangle\n",
    "\n",
    "Examples\n",
    "pascal_row(0) ➞ [1]\n",
    "\n",
    "pascal_row(1) ➞ [1, 1]\n",
    "\n",
    "pascal_row(5) ➞ [1, 5, 10, 10, 5, 1]\n",
    "\n",
    "pascal_row(10) ➞ [1, 10, 45, 120, 210, 252, 210, 120, 45, 10, 1]\n",
    "```"
   ]
  },
  {
   "cell_type": "code",
   "execution_count": 19,
   "metadata": {},
   "outputs": [
    {
     "data": {
      "text/plain": [
       "[1, 10, 45, 120, 210, 252, 210, 120, 45, 10, 1]"
      ]
     },
     "execution_count": 19,
     "metadata": {},
     "output_type": "execute_result"
    }
   ],
   "source": [
    "def pascals_triangle(n):\n",
    "    res, k = [], 0\n",
    "    while k <= n:\n",
    "        new = []\n",
    "        if k == 0:\n",
    "            new.append(1)\n",
    "        elif k == 1:\n",
    "            new.append(1)\n",
    "            new.append(1)\n",
    "        else:\n",
    "            for i in range(len(res[-1][:-1])):\n",
    "                new.append(res[-1][i] + res[-1][i + 1])\n",
    "            new.insert(0, 1)\n",
    "            new.insert(len(new), 1)\n",
    "        res.append(new)    \n",
    "        k += 1\n",
    "    return res[n]\n",
    "\n",
    "pascals_triangle(10)"
   ]
  },
  {
   "cell_type": "code",
   "execution_count": null,
   "metadata": {},
   "outputs": [],
   "source": []
  }
 ],
 "metadata": {
  "kernelspec": {
   "display_name": "Python 3 (ipykernel)",
   "language": "python",
   "name": "python3"
  },
  "language_info": {
   "codemirror_mode": {
    "name": "ipython",
    "version": 3
   },
   "file_extension": ".py",
   "mimetype": "text/x-python",
   "name": "python",
   "nbconvert_exporter": "python",
   "pygments_lexer": "ipython3",
   "version": "3.8.5"
  }
 },
 "nbformat": 4,
 "nbformat_minor": 4
}
