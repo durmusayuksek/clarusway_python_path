{
 "cells": [
  {
   "cell_type": "markdown",
   "metadata": {},
   "source": [
    "```\n",
    "You are given an integer, . Your task is to print an alphabet rangoli of size . (Rangoli is a form of Indian folk art based on creation of patterns.)\n",
    "\n",
    "#size 3\n",
    "\n",
    "----c----\n",
    "--c-b-c--\n",
    "c-b-a-b-c\n",
    "--c-b-c--\n",
    "----c----\n",
    "```"
   ]
  },
  {
   "cell_type": "code",
   "execution_count": 41,
   "metadata": {},
   "outputs": [
    {
     "name": "stdout",
     "output_type": "stream",
     "text": [
      "--------------------------------------------------z--------------------------------------------------\n",
      "------------------------------------------------z-y-z------------------------------------------------\n",
      "----------------------------------------------z-y-x-y-z----------------------------------------------\n",
      "--------------------------------------------z-y-x-w-x-y-z--------------------------------------------\n",
      "------------------------------------------z-y-x-w-v-w-x-y-z------------------------------------------\n",
      "----------------------------------------z-y-x-w-v-u-v-w-x-y-z----------------------------------------\n",
      "--------------------------------------z-y-x-w-v-u-t-u-v-w-x-y-z--------------------------------------\n",
      "------------------------------------z-y-x-w-v-u-t-s-t-u-v-w-x-y-z------------------------------------\n",
      "----------------------------------z-y-x-w-v-u-t-s-r-s-t-u-v-w-x-y-z----------------------------------\n",
      "--------------------------------z-y-x-w-v-u-t-s-r-q-r-s-t-u-v-w-x-y-z--------------------------------\n",
      "------------------------------z-y-x-w-v-u-t-s-r-q-p-q-r-s-t-u-v-w-x-y-z------------------------------\n",
      "----------------------------z-y-x-w-v-u-t-s-r-q-p-o-p-q-r-s-t-u-v-w-x-y-z----------------------------\n",
      "--------------------------z-y-x-w-v-u-t-s-r-q-p-o-n-o-p-q-r-s-t-u-v-w-x-y-z--------------------------\n",
      "------------------------z-y-x-w-v-u-t-s-r-q-p-o-n-m-n-o-p-q-r-s-t-u-v-w-x-y-z------------------------\n",
      "----------------------z-y-x-w-v-u-t-s-r-q-p-o-n-m-l-m-n-o-p-q-r-s-t-u-v-w-x-y-z----------------------\n",
      "--------------------z-y-x-w-v-u-t-s-r-q-p-o-n-m-l-k-l-m-n-o-p-q-r-s-t-u-v-w-x-y-z--------------------\n",
      "------------------z-y-x-w-v-u-t-s-r-q-p-o-n-m-l-k-j-k-l-m-n-o-p-q-r-s-t-u-v-w-x-y-z------------------\n",
      "----------------z-y-x-w-v-u-t-s-r-q-p-o-n-m-l-k-j-i-j-k-l-m-n-o-p-q-r-s-t-u-v-w-x-y-z----------------\n",
      "--------------z-y-x-w-v-u-t-s-r-q-p-o-n-m-l-k-j-i-h-i-j-k-l-m-n-o-p-q-r-s-t-u-v-w-x-y-z--------------\n",
      "------------z-y-x-w-v-u-t-s-r-q-p-o-n-m-l-k-j-i-h-g-h-i-j-k-l-m-n-o-p-q-r-s-t-u-v-w-x-y-z------------\n",
      "----------z-y-x-w-v-u-t-s-r-q-p-o-n-m-l-k-j-i-h-g-f-g-h-i-j-k-l-m-n-o-p-q-r-s-t-u-v-w-x-y-z----------\n",
      "--------z-y-x-w-v-u-t-s-r-q-p-o-n-m-l-k-j-i-h-g-f-e-f-g-h-i-j-k-l-m-n-o-p-q-r-s-t-u-v-w-x-y-z--------\n",
      "------z-y-x-w-v-u-t-s-r-q-p-o-n-m-l-k-j-i-h-g-f-e-d-e-f-g-h-i-j-k-l-m-n-o-p-q-r-s-t-u-v-w-x-y-z------\n",
      "----z-y-x-w-v-u-t-s-r-q-p-o-n-m-l-k-j-i-h-g-f-e-d-c-d-e-f-g-h-i-j-k-l-m-n-o-p-q-r-s-t-u-v-w-x-y-z----\n",
      "--z-y-x-w-v-u-t-s-r-q-p-o-n-m-l-k-j-i-h-g-f-e-d-c-b-c-d-e-f-g-h-i-j-k-l-m-n-o-p-q-r-s-t-u-v-w-x-y-z--\n",
      "z-y-x-w-v-u-t-s-r-q-p-o-n-m-l-k-j-i-h-g-f-e-d-c-b-a-b-c-d-e-f-g-h-i-j-k-l-m-n-o-p-q-r-s-t-u-v-w-x-y-z\n",
      "--z-y-x-w-v-u-t-s-r-q-p-o-n-m-l-k-j-i-h-g-f-e-d-c-b-c-d-e-f-g-h-i-j-k-l-m-n-o-p-q-r-s-t-u-v-w-x-y-z--\n",
      "----z-y-x-w-v-u-t-s-r-q-p-o-n-m-l-k-j-i-h-g-f-e-d-c-d-e-f-g-h-i-j-k-l-m-n-o-p-q-r-s-t-u-v-w-x-y-z----\n",
      "------z-y-x-w-v-u-t-s-r-q-p-o-n-m-l-k-j-i-h-g-f-e-d-e-f-g-h-i-j-k-l-m-n-o-p-q-r-s-t-u-v-w-x-y-z------\n",
      "--------z-y-x-w-v-u-t-s-r-q-p-o-n-m-l-k-j-i-h-g-f-e-f-g-h-i-j-k-l-m-n-o-p-q-r-s-t-u-v-w-x-y-z--------\n",
      "----------z-y-x-w-v-u-t-s-r-q-p-o-n-m-l-k-j-i-h-g-f-g-h-i-j-k-l-m-n-o-p-q-r-s-t-u-v-w-x-y-z----------\n",
      "------------z-y-x-w-v-u-t-s-r-q-p-o-n-m-l-k-j-i-h-g-h-i-j-k-l-m-n-o-p-q-r-s-t-u-v-w-x-y-z------------\n",
      "--------------z-y-x-w-v-u-t-s-r-q-p-o-n-m-l-k-j-i-h-i-j-k-l-m-n-o-p-q-r-s-t-u-v-w-x-y-z--------------\n",
      "----------------z-y-x-w-v-u-t-s-r-q-p-o-n-m-l-k-j-i-j-k-l-m-n-o-p-q-r-s-t-u-v-w-x-y-z----------------\n",
      "------------------z-y-x-w-v-u-t-s-r-q-p-o-n-m-l-k-j-k-l-m-n-o-p-q-r-s-t-u-v-w-x-y-z------------------\n",
      "--------------------z-y-x-w-v-u-t-s-r-q-p-o-n-m-l-k-l-m-n-o-p-q-r-s-t-u-v-w-x-y-z--------------------\n",
      "----------------------z-y-x-w-v-u-t-s-r-q-p-o-n-m-l-m-n-o-p-q-r-s-t-u-v-w-x-y-z----------------------\n",
      "------------------------z-y-x-w-v-u-t-s-r-q-p-o-n-m-n-o-p-q-r-s-t-u-v-w-x-y-z------------------------\n",
      "--------------------------z-y-x-w-v-u-t-s-r-q-p-o-n-o-p-q-r-s-t-u-v-w-x-y-z--------------------------\n",
      "----------------------------z-y-x-w-v-u-t-s-r-q-p-o-p-q-r-s-t-u-v-w-x-y-z----------------------------\n",
      "------------------------------z-y-x-w-v-u-t-s-r-q-p-q-r-s-t-u-v-w-x-y-z------------------------------\n",
      "--------------------------------z-y-x-w-v-u-t-s-r-q-r-s-t-u-v-w-x-y-z--------------------------------\n",
      "----------------------------------z-y-x-w-v-u-t-s-r-s-t-u-v-w-x-y-z----------------------------------\n",
      "------------------------------------z-y-x-w-v-u-t-s-t-u-v-w-x-y-z------------------------------------\n",
      "--------------------------------------z-y-x-w-v-u-t-u-v-w-x-y-z--------------------------------------\n",
      "----------------------------------------z-y-x-w-v-u-v-w-x-y-z----------------------------------------\n",
      "------------------------------------------z-y-x-w-v-w-x-y-z------------------------------------------\n",
      "--------------------------------------------z-y-x-w-x-y-z--------------------------------------------\n",
      "----------------------------------------------z-y-x-y-z----------------------------------------------\n",
      "------------------------------------------------z-y-z------------------------------------------------\n",
      "--------------------------------------------------z--------------------------------------------------\n"
     ]
    }
   ],
   "source": [
    "def alphabet_rangoli(size):    \n",
    "    h = 'abcdefghijklmnopqrstuvwxyz'\n",
    "    count = size - 1\n",
    "    satir = count * 4 + 1\n",
    "    text = h[:size]\n",
    "    text = text[::-1]\n",
    "    a = 1\n",
    "    b = count * 2\n",
    "    if size != 1:\n",
    "        for i in range(count):\n",
    "            if i != 0:\n",
    "                print(b * '-', '-'.join(['-'.join(text[:a]), '-'.join(text[:a][::-1][1:])]), b * '-', sep='')\n",
    "            else:\n",
    "                print(b * '-', text[:a], b * '-', sep='')\n",
    "            a += 1\n",
    "            b -= 2\n",
    "        print('-'.join(['-'.join(text[:a]), '-'.join(text[:a][::-1][1:])]))\n",
    "        a -= 1\n",
    "        b += 2\n",
    "        for i in range(count):\n",
    "            if i != count - 1:\n",
    "                print(b * '-', '-'.join(['-'.join(text[:a]), '-'.join(text[:a][::-1][1:])]), b * '-', sep='')\n",
    "            else:\n",
    "                print(b * '-', text[:a], b * '-', sep='')\n",
    "            a -= 1\n",
    "            b += 2    \n",
    "    else:\n",
    "        print(text[:size])\n",
    "        \n",
    "alphabet_rangoli(26)"
   ]
  },
  {
   "cell_type": "code",
   "execution_count": null,
   "metadata": {},
   "outputs": [],
   "source": []
  }
 ],
 "metadata": {
  "kernelspec": {
   "display_name": "Python 3 (ipykernel)",
   "language": "python",
   "name": "python3"
  },
  "language_info": {
   "codemirror_mode": {
    "name": "ipython",
    "version": 3
   },
   "file_extension": ".py",
   "mimetype": "text/x-python",
   "name": "python",
   "nbconvert_exporter": "python",
   "pygments_lexer": "ipython3",
   "version": "3.8.5"
  }
 },
 "nbformat": 4,
 "nbformat_minor": 4
}
