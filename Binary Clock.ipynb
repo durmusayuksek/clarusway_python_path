{
 "cells": [
  {
   "attachments": {},
   "cell_type": "markdown",
   "metadata": {},
   "source": [
    "```\n",
    "A binary clock displays the time of day in binary format. Modern binary clocks have six columns of lights; two for each of the hours, minutes and seconds. \n",
    "\n",
    "The binary values increase from the bottom to the top row. Lights on the bottom row have a value of 1, lights on the row above have a value of 2, then 4 on the row above that, and finally a value of 8 on the top row. Any 24-hour time can be shown by switching on a certain combination of lights. For example, to show the time \"10:37:49\":\n",
    "\n",
    "<img src = 'https://edabit-challenges.s3.amazonaws.com/440px-Binary_clock.svg.png'>"
   ]
  },
  {
   "cell_type": "markdown",
   "metadata": {},
   "source": [
    "```\n",
    "You've decided to build your own binary clock, and you need to figure out how to light each row of the clock to show the correct time. Given the time as a string, return a list containing strings that shows the lights for each row of the clock (top to bottom). Use \"1\" for on, and \"0\" for off. Leave a blank space for any part of the row that doesn't require a light.\n",
    "\n",
    "Examples\n",
    "binary_clock(\"10:37:49\") ➞ [\n",
    "  \" 0 0 1\",\n",
    "  \" 00110\",\n",
    "  \"001100\",\n",
    "  \"101101\"\n",
    "]\n",
    "\n",
    "binary_clock(\"18:57:31\") ➞ [\n",
    "  \" 1 0 0\",\n",
    "  \" 01100\",\n",
    "  \"000110\",\n",
    "  \"101111\"\n",
    "]\n",
    "\n",
    "binary_clock(\"10:50:22\") ➞ [\n",
    "  \" 0 0 0\",\n",
    "  \" 01000\",\n",
    "  \"000011\",\n",
    "  \"101000\"\n",
    "]\n",
    "```"
   ]
  },
  {
   "cell_type": "code",
   "execution_count": 86,
   "metadata": {},
   "outputs": [
    {
     "name": "stdout",
     "output_type": "stream",
     "text": [
      " 0 0 0\n",
      " 01000\n",
      "000011\n",
      "101000\n"
     ]
    }
   ],
   "source": [
    "def binary_clock(time):\n",
    "    time = ''.join(time.split(':'))\n",
    "    es = [2,4,3,4,3,4]\n",
    "    res, resa, result = [], [], []\n",
    "    for i in time:\n",
    "        b = ''\n",
    "        i = int(i)\n",
    "        while i >= 2:\n",
    "            a = i % 2\n",
    "            i = i // 2\n",
    "            b = str(a) + b\n",
    "        b = str(i) + b\n",
    "        res.append(b)\n",
    "    for i in range(len(time)):\n",
    "        c = res[i]\n",
    "        while len(c) < es[i]:\n",
    "            c = '0' + c\n",
    "        while len(c) < 4:\n",
    "            c = ' ' + c\n",
    "        resa.append(c)\n",
    "    clock = list(map(lambda *x : [*x], *resa))\n",
    "    for i in clock:\n",
    "        i = ''.join(i)\n",
    "        result.append(i)\n",
    "    for i in result:\n",
    "        print(i)\n",
    "    \n",
    "binary_clock(\"10:50:22\")"
   ]
  },
  {
   "cell_type": "code",
   "execution_count": null,
   "metadata": {},
   "outputs": [],
   "source": []
  }
 ],
 "metadata": {
  "kernelspec": {
   "display_name": "Python 3 (ipykernel)",
   "language": "python",
   "name": "python3"
  },
  "language_info": {
   "codemirror_mode": {
    "name": "ipython",
    "version": 3
   },
   "file_extension": ".py",
   "mimetype": "text/x-python",
   "name": "python",
   "nbconvert_exporter": "python",
   "pygments_lexer": "ipython3",
   "version": "3.8.5"
  }
 },
 "nbformat": 4,
 "nbformat_minor": 4
}
