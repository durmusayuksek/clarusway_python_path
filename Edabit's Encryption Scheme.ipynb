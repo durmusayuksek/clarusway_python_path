{
 "cells": [
  {
   "cell_type": "markdown",
   "metadata": {},
   "source": [
    "```\n",
    "An English text needs to be encrypted using Edabit’s encryption scheme. First, the spaces are removed from the text. Let L be the length of this text. Then, characters are written into a grid, whose rows and columns have the following constraints:\n",
    "\n",
    "For example, the sentence \"if man was meant to stay on the ground god would have given us roots\", after removing spaces, is 54 characters long. The square root of 54 is between 7 and 8, so it is written in the form of a grid with 7 rows and 8 columns.\n",
    "\n",
    "ifmanwas\n",
    "meanttos\n",
    "tayonthe\n",
    "groundgo\n",
    "dwouldha\n",
    "vegivenu\n",
    "sroots\n",
    "\n",
    "Ensure that rows x column >= L\n",
    "If multiple grids satisfy the above conditions, choose the one with the minimum area.\n",
    "\n",
    "rows x columns >= L\n",
    "\n",
    "The encoded message is obtained by displaying the characters in a column, inserting a space, and then displaying the next column and inserting a space, and so on. For example, the encoded message for the above rectangle is:\n",
    "\n",
    "imtgdvs fearwer mayoogo anouuio ntnnlvt wttddes aohghn sseoau\n",
    "\n",
    "Examples\n",
    "\n",
    "encryption(“haveaniceday”) ➞ “hae and via ecy”\n",
    "\n",
    "# have\n",
    "# anic\n",
    "# eday\n",
    "\n",
    "encryption(“feedthedog”) ➞ “fto ehg ee dd”\n",
    "\n",
    "encryption(“chillout”) ➞ “clu hlt io”\n",
    "\n",
    "encryption(“A Fool and His Money Are Soon Parted.”) ➞ \"Anoea FdnSr oHeot\n",
    "```"
   ]
  },
  {
   "cell_type": "code",
   "execution_count": 97,
   "metadata": {},
   "outputs": [
    {
     "data": {
      "text/plain": [
       "'Anoea FdnSr oHeot oiyoe lsAnd aMrP.'"
      ]
     },
     "execution_count": 97,
     "metadata": {},
     "output_type": "execute_result"
    }
   ],
   "source": [
    "def edabit_enc(text):    \n",
    "    text = text.replace(' ', '')\n",
    "    leng = len(text)\n",
    "    sq = leng ** 0.5\n",
    "    \n",
    "    if float(sq) == int(sq):\n",
    "        row = int(sq)\n",
    "        col = int(sq)\n",
    "    else:\n",
    "        row = int(float(sq))\n",
    "        col = row + 1\n",
    "        if row * col < len(text):\n",
    "            row += 1\n",
    "\n",
    "    a = 0\n",
    "    b = col\n",
    "    liste, resa = [], []\n",
    "    for i in range(row):\n",
    "        c = text[a:b]\n",
    "        while len(c) < col:\n",
    "            c += ' '\n",
    "        liste.append(c)\n",
    "        a += col\n",
    "        b += col\n",
    "\n",
    "    res = list(map(lambda *x : [*x], *liste))\n",
    "\n",
    "    for i in res:\n",
    "        resa.append(''.join(i).strip())\n",
    "    result = ' '.join(resa)\n",
    "    return result\n",
    "\n",
    "edabit_enc('A Fool and His Money Are Soon Parted.')"
   ]
  },
  {
   "cell_type": "code",
   "execution_count": null,
   "metadata": {},
   "outputs": [],
   "source": []
  }
 ],
 "metadata": {
  "kernelspec": {
   "display_name": "Python 3 (ipykernel)",
   "language": "python",
   "name": "python3"
  },
  "language_info": {
   "codemirror_mode": {
    "name": "ipython",
    "version": 3
   },
   "file_extension": ".py",
   "mimetype": "text/x-python",
   "name": "python",
   "nbconvert_exporter": "python",
   "pygments_lexer": "ipython3",
   "version": "3.8.5"
  }
 },
 "nbformat": 4,
 "nbformat_minor": 4
}
