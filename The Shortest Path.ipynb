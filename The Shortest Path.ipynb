{
 "cells": [
  {
   "cell_type": "markdown",
   "metadata": {},
   "source": [
    "```\n",
    "Given a rectangular grid of m by n spaces, signaled by 0s, and a number of points, signaled by 1, 2, 3..., return the number of moves for the shortest path that starts at 1 and goes over all the other points in ascending order.\n",
    "\n",
    "Examples\n",
    "shortest_path([\n",
    "  (\"001\"),\n",
    "  (\"002\"),\n",
    "  (\"003\")\n",
    "]) ➞ 2\n",
    "\n",
    "shortest_path([\n",
    "  (\"00000\"),\n",
    "  (\"01006\"),\n",
    "  (\"02000\"),\n",
    "  (\"30050\"),\n",
    "  (\"00004\")\n",
    "]) ➞ 13\n",
    "\n",
    "shortest_path([\n",
    "  (\"00020000\"),\n",
    "  (\"01000000\")\n",
    "]) ➞ 3\n",
    "Notes\n",
    "Only horizontal and vertical movements are allowed.\n",
    "All movements from one place to an adjacent one count as 1 regardless of direction.\n",
    "The points range from 1 to at most 9 with no repeating or missing digits.\n",
    "```"
   ]
  },
  {
   "cell_type": "code",
   "execution_count": 11,
   "metadata": {},
   "outputs": [
    {
     "data": {
      "text/plain": [
       "13"
      ]
     },
     "execution_count": 11,
     "metadata": {},
     "output_type": "execute_result"
    }
   ],
   "source": [
    "def shortest_path(liste):\n",
    "    res = []\n",
    "    a, c = 1, 0\n",
    "    count = 0\n",
    "    for i in liste:\n",
    "        for j in i:\n",
    "            if int(j) > count:\n",
    "                count = int(j)\n",
    "\n",
    "    while a <= count:\n",
    "        for i in liste:\n",
    "            if str(a) in i:\n",
    "                b = [liste.index(i), i.find(str(a))]\n",
    "                res.append(b)\n",
    "        a += 1\n",
    "\n",
    "    for i in range(len(res) - 1):\n",
    "        c += abs(res[i][0] - res[i + 1][0]) + abs(res[i][1] - res[i + 1][1])\n",
    "\n",
    "    return c\n",
    "\n",
    "shortest_path([\n",
    "  (\"00000\"),\n",
    "  (\"01006\"),\n",
    "  (\"02000\"),\n",
    "  (\"30050\"),\n",
    "  (\"00004\")\n",
    "])"
   ]
  },
  {
   "cell_type": "code",
   "execution_count": null,
   "metadata": {},
   "outputs": [],
   "source": []
  }
 ],
 "metadata": {
  "kernelspec": {
   "display_name": "Python 3 (ipykernel)",
   "language": "python",
   "name": "python3"
  },
  "language_info": {
   "codemirror_mode": {
    "name": "ipython",
    "version": 3
   },
   "file_extension": ".py",
   "mimetype": "text/x-python",
   "name": "python",
   "nbconvert_exporter": "python",
   "pygments_lexer": "ipython3",
   "version": "3.8.5"
  }
 },
 "nbformat": 4,
 "nbformat_minor": 4
}
