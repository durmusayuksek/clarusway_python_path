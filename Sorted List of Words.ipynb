{
 "cells": [
  {
   "cell_type": "markdown",
   "metadata": {},
   "source": [
    "```\n",
    "The function is given a list of words and a new alphabet (English letters in different order). Determine if the list of words is sorted lexicographically. The words consist of lower case letters.\n",
    "\n",
    "Examples\n",
    "\n",
    "is_sorted([\"hello\", \"edabitlot\"], \"hlabcdefgijkmnopqrstuvwxyz\") ➞ True\n",
    "\n",
    "is_sorted([\"word\", \"world\", \"row\"], \"worldabcefghijkmnpqstuvxyz\") ➞ False\n",
    "\n",
    "is_sorted([\"apple\", \"app\"], \"abcdefghijklmnopqrstuvwxyz\") ➞ False\n",
    "\n",
    "is_sorted([\"deceased\", \"folks\", \"can\", \"vote\"], \"abdefghijklmnopqrstcuvwxyz\") ➞ True\n",
    "```"
   ]
  },
  {
   "cell_type": "code",
   "execution_count": 40,
   "metadata": {},
   "outputs": [
    {
     "data": {
      "text/plain": [
       "True"
      ]
     },
     "execution_count": 40,
     "metadata": {},
     "output_type": "execute_result"
    }
   ],
   "source": [
    "def sorted_list_of_words(liste, alp):\n",
    "    a = list(enumerate(alp))\n",
    "    c = []\n",
    "    for i in liste:\n",
    "        b = []\n",
    "        for j in i:\n",
    "            for k,v in a:\n",
    "                if j == v:\n",
    "                    b.append([k, j])\n",
    "        c.append(b)\n",
    "    return c == sorted(c)\n",
    "\n",
    "sorted_list_of_words([\"deceased\", \"folks\", \"can\", \"vote\"], \"abdefghijklmnopqrstcuvwxyz\")"
   ]
  },
  {
   "cell_type": "code",
   "execution_count": null,
   "metadata": {},
   "outputs": [],
   "source": []
  }
 ],
 "metadata": {
  "kernelspec": {
   "display_name": "Python 3 (ipykernel)",
   "language": "python",
   "name": "python3"
  },
  "language_info": {
   "codemirror_mode": {
    "name": "ipython",
    "version": 3
   },
   "file_extension": ".py",
   "mimetype": "text/x-python",
   "name": "python",
   "nbconvert_exporter": "python",
   "pygments_lexer": "ipython3",
   "version": "3.8.5"
  }
 },
 "nbformat": 4,
 "nbformat_minor": 4
}
