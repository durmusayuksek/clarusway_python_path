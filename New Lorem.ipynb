{
 "cells": [
  {
   "cell_type": "markdown",
   "metadata": {},
   "source": [
    "```\n",
    "Given a string s and an integer k, break up the string into multiple texts such that each text has a length of k or less. You must break it up so that words don't break across lines. If there's no way to break the text up, then return null.\n",
    "\n",
    "You can assume that there are no spaces at the ends of the string and that there is exactly one space between each word.\n",
    "\n",
    "For example, given the string \"the quick brown fox jumps over the lazy dog\" and k = 10, you should return: [\"the quick\", \"brown fox\", \"jumps over\", \"the lazy\", \"dog\"]. No string in the list has a length of more than 10.\n",
    "```"
   ]
  },
  {
   "cell_type": "code",
   "execution_count": 83,
   "metadata": {},
   "outputs": [
    {
     "data": {
      "text/plain": [
       "['the quick', 'brown fox', 'jumps over', 'the lazy', 'dog']"
      ]
     },
     "execution_count": 83,
     "metadata": {},
     "output_type": "execute_result"
    }
   ],
   "source": [
    "text = \"the quick brown fox jumps over the lazy dog\"\n",
    "\n",
    "def new_lorem(text, n):\n",
    "    result = []\n",
    "    while True:\n",
    "        try:\n",
    "            look = text[n - 1]\n",
    "        except:\n",
    "            new = text\n",
    "            result.append(new)\n",
    "            break\n",
    "        else:\n",
    "            if n - 1 == len(text) - 1:\n",
    "                new = text\n",
    "                result.append(new)\n",
    "                break\n",
    "            elif look != ' ' and text[n] != ' ':\n",
    "                a = text[:n][::-1].find(' ')\n",
    "                if a == -1:\n",
    "                    ind = text[n:].find(' ')\n",
    "                    if ind == -1:\n",
    "                        break\n",
    "                    else:\n",
    "                        text = text[n + ind + 1:]\n",
    "                else:\n",
    "                    text_2 = text[:n - a - 1]\n",
    "                    text = text[n - a:]\n",
    "                    result.append(text_2)\n",
    "            elif look == ' ':\n",
    "                text_2 = text[:n - 1]\n",
    "                text = text[n:]\n",
    "                result.append(text_2)\n",
    "            elif look != ' ' and text[n] == ' ':\n",
    "                text_2 = text[:n]\n",
    "                text = text[n + 1:]\n",
    "                result.append(text_2)\n",
    "    if result == []:\n",
    "        return 'Null'\n",
    "    else:\n",
    "        return result\n",
    "\n",
    "new_lorem(text, 10)"
   ]
  },
  {
   "cell_type": "code",
   "execution_count": null,
   "metadata": {},
   "outputs": [],
   "source": []
  },
  {
   "cell_type": "code",
   "execution_count": null,
   "metadata": {},
   "outputs": [],
   "source": []
  },
  {
   "cell_type": "code",
   "execution_count": null,
   "metadata": {},
   "outputs": [],
   "source": []
  },
  {
   "cell_type": "code",
   "execution_count": null,
   "metadata": {},
   "outputs": [],
   "source": []
  },
  {
   "cell_type": "code",
   "execution_count": null,
   "metadata": {},
   "outputs": [],
   "source": []
  },
  {
   "cell_type": "code",
   "execution_count": null,
   "metadata": {},
   "outputs": [],
   "source": []
  },
  {
   "cell_type": "code",
   "execution_count": null,
   "metadata": {},
   "outputs": [],
   "source": []
  },
  {
   "cell_type": "code",
   "execution_count": null,
   "metadata": {},
   "outputs": [],
   "source": []
  },
  {
   "cell_type": "code",
   "execution_count": null,
   "metadata": {},
   "outputs": [],
   "source": []
  }
 ],
 "metadata": {
  "kernelspec": {
   "display_name": "Python 3 (ipykernel)",
   "language": "python",
   "name": "python3"
  },
  "language_info": {
   "codemirror_mode": {
    "name": "ipython",
    "version": 3
   },
   "file_extension": ".py",
   "mimetype": "text/x-python",
   "name": "python",
   "nbconvert_exporter": "python",
   "pygments_lexer": "ipython3",
   "version": "3.8.5"
  }
 },
 "nbformat": 4,
 "nbformat_minor": 4
}
