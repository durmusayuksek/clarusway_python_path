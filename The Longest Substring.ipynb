{
 "cells": [
  {
   "cell_type": "markdown",
   "metadata": {},
   "source": [
    "```\n",
    "Given a string of letters, create a function that returns a list with the separator that yields the longest possible substring, provided that:\n",
    "\n",
    "The substring starts and ends with the separator.\n",
    "The separator doesn't occur inside the substring other than at the ends.\n",
    "If two or more separators yield substrings with the same length, they should appear in alphabetical order.\n",
    "\n",
    "Examples\n",
    "max_separator(\"supercalifragilistic\") ➞ [\"s\"]\n",
    "# The longest substring is \"supercalifragilis\".\n",
    "\n",
    "max_separator(\"laboratory\") ➞ [\"a\", \"o\", \"r\"]\n",
    "# \"abora\", \"orato\" and \"rator\" are the same length.\n",
    "\n",
    "max_separator(\"candle\") ➞ []\n",
    "# No possible substrings.\n",
    "Notes\n",
    "All substrings should be at least of length 2 (i.e. no single-letter substrings).\n",
    "Expect lowercase alphabetic characters only.\n",
    "```"
   ]
  },
  {
   "cell_type": "code",
   "execution_count": 34,
   "metadata": {},
   "outputs": [
    {
     "name": "stdout",
     "output_type": "stream",
     "text": [
      "{'a': 'abora', 'o': 'orato', 'r': 'rator'}\n"
     ]
    },
    {
     "data": {
      "text/plain": [
       "['a', 'o', 'r']"
      ]
     },
     "execution_count": 34,
     "metadata": {},
     "output_type": "execute_result"
    }
   ],
   "source": [
    "def max_separator(text):\n",
    "    a = 0\n",
    "    dictt = {}\n",
    "    resa = []\n",
    "    while True:\n",
    "        if text.count(text[a]) > 1:\n",
    "            b = text.find(text[a])\n",
    "            c = text[::-1].find(text[a])\n",
    "            c = (len(text) - c) - 1\n",
    "            res = text[b:c + 1]\n",
    "            dictt[text[a]] = res\n",
    "        a += 1\n",
    "        if a == len(text):\n",
    "            break\n",
    "    if dictt != {}:\n",
    "        maxx = max([len(i) for i in sorted(list(dictt.values()))])\n",
    "    for k,v in dictt.items():\n",
    "        if len(v) == maxx:\n",
    "            resa.append(k)\n",
    "    print(dictt)\n",
    "    return resa\n",
    "\n",
    "max_separator(\"laboratory\")"
   ]
  },
  {
   "cell_type": "code",
   "execution_count": null,
   "metadata": {},
   "outputs": [],
   "source": []
  }
 ],
 "metadata": {
  "kernelspec": {
   "display_name": "Python 3 (ipykernel)",
   "language": "python",
   "name": "python3"
  },
  "language_info": {
   "codemirror_mode": {
    "name": "ipython",
    "version": 3
   },
   "file_extension": ".py",
   "mimetype": "text/x-python",
   "name": "python",
   "nbconvert_exporter": "python",
   "pygments_lexer": "ipython3",
   "version": "3.8.5"
  }
 },
 "nbformat": 4,
 "nbformat_minor": 4
}
