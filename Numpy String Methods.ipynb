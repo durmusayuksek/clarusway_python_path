{
 "cells": [
  {
   "cell_type": "markdown",
   "metadata": {},
   "source": [
    "```\n",
    "Write a NumPy program to capitalize the first letter, lowercase, uppercase, swapcase, title-case of all the elements of a given array.\n",
    "\n",
    "Original Array:\n",
    "['clarusway' 'data' 'science' 'bootcamp' 'is' 'the' 'best']\n",
    "\n",
    "Capitalized:  ['Clarusway' 'Data' 'Science' 'Bootcamp' 'Is' 'The' 'Best']\n",
    "Lowered:  ['clarusway' 'data' 'science' 'bootcamp' 'is' 'the' 'best']\n",
    "Uppered:  ['CLARUSWAY' 'DATA' 'SCIENCE' 'BOOTCAMP' 'IS' 'THE' 'BEST']\n",
    "Swapcased:  ['CLARUSWAY' 'DATA' 'SCIENCE' 'BOOTCAMP' 'IS' 'THE' 'BEST']\n",
    "Titlecased:  ['Clarusway' 'Data' 'Science' 'Bootcamp' 'Is' 'The' 'Best']\n",
    "```"
   ]
  },
  {
   "cell_type": "code",
   "execution_count": 2,
   "metadata": {},
   "outputs": [
    {
     "name": "stdout",
     "output_type": "stream",
     "text": [
      "Capitalized:  ['Clarusway' 'Data' 'Science' 'Bootcamp' 'Is' 'The' 'Best']\n",
      "Lowered:  ['clarusway' 'data' 'science' 'bootcamp' 'is' 'the' 'best']\n",
      "Uppered:  ['CLARUSWAY' 'DATA' 'SCIENCE' 'BOOTCAMP' 'IS' 'THE' 'BEST']\n",
      "Swapcased:  ['CLARUSWAY' 'DATA' 'SCIENCE' 'BOOTCAMP' 'IS' 'THE' 'BEST']\n",
      "Titlecased:  ['Clarusway' 'Data' 'Science' 'Bootcamp' 'Is' 'The' 'Best']\n"
     ]
    }
   ],
   "source": [
    "import numpy as np\n",
    "a = np.array(['clarusway', 'data', 'science', 'bootcamp', 'is', 'the', 'best'], dtype = str)\n",
    "print('Capitalized: ', np.char.capitalize(a))\n",
    "print('Lowered: ', np.char.lower(a))\n",
    "print('Uppered: ', np.char.upper(a))\n",
    "print('Swapcased: ', np.char.swapcase(a))\n",
    "print('Titlecased: ', np.char.title(a))"
   ]
  },
  {
   "cell_type": "code",
   "execution_count": 8,
   "metadata": {},
   "outputs": [
    {
     "name": "stdout",
     "output_type": "stream",
     "text": [
      "Clarusway Data Science Bootcamp Is The Best\n"
     ]
    }
   ],
   "source": [
    "b = np.array(['clarusway', 'data', 'science', 'bootcamp', 'is', 'the', 'best'], dtype = str)\n",
    "c = np.char.title(b)\n",
    "text = ' '.join(c)\n",
    "print(text)"
   ]
  },
  {
   "cell_type": "code",
   "execution_count": null,
   "metadata": {},
   "outputs": [],
   "source": []
  }
 ],
 "metadata": {
  "kernelspec": {
   "display_name": "Python 3 (ipykernel)",
   "language": "python",
   "name": "python3"
  },
  "language_info": {
   "codemirror_mode": {
    "name": "ipython",
    "version": 3
   },
   "file_extension": ".py",
   "mimetype": "text/x-python",
   "name": "python",
   "nbconvert_exporter": "python",
   "pygments_lexer": "ipython3",
   "version": "3.8.5"
  }
 },
 "nbformat": 4,
 "nbformat_minor": 4
}
