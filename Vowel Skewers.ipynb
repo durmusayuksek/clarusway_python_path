{
 "cells": [
  {
   "cell_type": "markdown",
   "metadata": {},
   "source": [
    "```\n",
    "An authentic vowel skewer is a skewer with a delicious and juicy mix of consonants and vowels. However, the way they are made must be just right:\n",
    "\n",
    "Skewers must begin and end with a consonant.\n",
    "Skewers must alternate between consonants and vowels.\n",
    "There must be an even spacing between each letter on the skewer, so that there is a consistent flavour throughout.\n",
    "Create a function which returns whether a given vowel skewer is authentic.\n",
    "\n",
    "Examples\n",
    "is_authentic_skewer(\"B--A--N--A--N--A--S\") ➞ True\n",
    "\n",
    "is_authentic_skewer(\"A--X--E\") ➞ False\n",
    "# Should start and end with a consonant.\n",
    "\n",
    "is_authentic_skewer(\"C-L-A-P\") ➞ False\n",
    "# Should alternate between consonants and vowels.\n",
    "\n",
    "is_authentic_skewer(\"M--A---T-E-S\") ➞ False\n",
    "# Should have consistent spacing between letters.\n",
    "\n",
    "Notes\n",
    "All tests will be given in uppercase.\n",
    "Strings without any actual skewer \"-\" or letters should return False.\n",
    "```"
   ]
  },
  {
   "cell_type": "code",
   "execution_count": 79,
   "metadata": {},
   "outputs": [
    {
     "data": {
      "text/plain": [
       "True"
      ]
     },
     "execution_count": 79,
     "metadata": {},
     "output_type": "execute_result"
    }
   ],
   "source": [
    "import re\n",
    "\n",
    "def vowel_skewers(text):\n",
    "    search = ''\n",
    "    count = 0\n",
    "    for i in text:\n",
    "        if i.isalnum():\n",
    "            count += 1\n",
    "\n",
    "    num = re.findall('^[A-Z]{1}(-+).+', text)\n",
    "    if num != []:\n",
    "        a = '[^AEIOU]{1}' + len(num[0]) * '-'\n",
    "        b = '[AEIOU]{1}' + len(num[0]) * '-'\n",
    "\n",
    "    if count % 2 == 0:\n",
    "        for i in range(round(count/2)):\n",
    "            search += a\n",
    "            search += b\n",
    "    else:\n",
    "        for i in range(count//2):\n",
    "            search += a\n",
    "            search += b\n",
    "        search += a\n",
    "    search = '^' + search.rstrip('-+')\n",
    "    res = re.findall(search,text)\n",
    "    if res == [text]:\n",
    "        return True\n",
    "    else:\n",
    "        return False\n",
    "    \n",
    "vowel_skewers(\"B--A--N--A--N--A--S\")"
   ]
  },
  {
   "cell_type": "code",
   "execution_count": null,
   "metadata": {},
   "outputs": [],
   "source": []
  }
 ],
 "metadata": {
  "kernelspec": {
   "display_name": "Python 3 (ipykernel)",
   "language": "python",
   "name": "python3"
  },
  "language_info": {
   "codemirror_mode": {
    "name": "ipython",
    "version": 3
   },
   "file_extension": ".py",
   "mimetype": "text/x-python",
   "name": "python",
   "nbconvert_exporter": "python",
   "pygments_lexer": "ipython3",
   "version": "3.8.5"
  }
 },
 "nbformat": 4,
 "nbformat_minor": 4
}
