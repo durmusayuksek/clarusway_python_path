{
 "cells": [
  {
   "cell_type": "markdown",
   "metadata": {},
   "source": [
    "```\n",
    "Given a string, find the longest palindromic contiguous substring. If there are more than one with the maximum length, return any one.\n",
    "For example, the longest palindromic substring of \"aabcdcb\" is \"bcdcb\". The longest palindromic substring of \"bananas\" is \"anana\".\n",
    "```"
   ]
  },
  {
   "cell_type": "code",
   "execution_count": 44,
   "metadata": {},
   "outputs": [
    {
     "data": {
      "text/plain": [
       "'anana'"
      ]
     },
     "execution_count": 44,
     "metadata": {},
     "output_type": "execute_result"
    }
   ],
   "source": [
    "def pal(text):\n",
    "    res, resa, son = [], [], []\n",
    "    for i in range(len(text)):\n",
    "        res.append(text[i:])\n",
    "\n",
    "    for i in range(len(text)):\n",
    "        resa.append(text[i::-1])\n",
    "\n",
    "    for i in res:\n",
    "        for j in resa:\n",
    "            a = 0\n",
    "            toplam = ''\n",
    "            if i[a] == j[a]:\n",
    "                while i[a] == j[a]:\n",
    "                    toplam += i[a]\n",
    "                    a += 1\n",
    "                    if toplam == toplam[::-1]:\n",
    "                        son.append(toplam)\n",
    "                    if a == len(i) or a == len(j):\n",
    "                        break\n",
    "    a = sorted(son, key=lambda x : len(x), reverse = True)\n",
    "    return a[0]\n",
    "\n",
    "pal('bananas')"
   ]
  },
  {
   "cell_type": "code",
   "execution_count": null,
   "metadata": {},
   "outputs": [],
   "source": []
  }
 ],
 "metadata": {
  "kernelspec": {
   "display_name": "Python 3 (ipykernel)",
   "language": "python",
   "name": "python3"
  },
  "language_info": {
   "codemirror_mode": {
    "name": "ipython",
    "version": 3
   },
   "file_extension": ".py",
   "mimetype": "text/x-python",
   "name": "python",
   "nbconvert_exporter": "python",
   "pygments_lexer": "ipython3",
   "version": "3.8.5"
  }
 },
 "nbformat": 4,
 "nbformat_minor": 4
}
