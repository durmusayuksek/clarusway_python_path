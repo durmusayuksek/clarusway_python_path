{
 "cells": [
  {
   "cell_type": "markdown",
   "metadata": {},
   "source": [
    "```\n",
    "The function is given a string with some square brackets in it. You need to build the outcome string using the rule: k[substring] is replaced by the substring inside the square brackets being repeated exactly k times.\n",
    "\n",
    "Examples\n",
    "\n",
    "string_builder(\"3[a]2[bc]\") ➞ \"aaabcbc\"\n",
    "\n",
    "string_builder(\"3[a2[c]]\") ➞ \"accaccacc\"\n",
    "\n",
    "string_builder(\"2[abc]3[cd]ef\") ➞ \"abcabccdcdcdef\"\n",
    "\n",
    "Notes\n",
    "\n",
    "k is a positive integer.\n",
    "```"
   ]
  },
  {
   "cell_type": "code",
   "execution_count": 79,
   "metadata": {},
   "outputs": [
    {
     "data": {
      "text/plain": [
       "'abcabccdcdcdef'"
      ]
     },
     "execution_count": 79,
     "metadata": {},
     "output_type": "execute_result"
    }
   ],
   "source": [
    "import re\n",
    "\n",
    "def casual_string(text):\n",
    "    while True:\n",
    "        a = re.findall('([0-9]+\\[[a-z]+\\])', text)\n",
    "        if a == []:\n",
    "            break\n",
    "        for i in range(len(a)):\n",
    "            b = re.findall('^([0-9]+)', a[i])\n",
    "            text = text.replace(a[i], int(b[0]) * a[i][len(b[0]) + 1:-1])\n",
    "    return text\n",
    "\n",
    "casual_string('2[abc]3[cd]ef')"
   ]
  },
  {
   "cell_type": "code",
   "execution_count": null,
   "metadata": {},
   "outputs": [],
   "source": []
  }
 ],
 "metadata": {
  "kernelspec": {
   "display_name": "Python 3 (ipykernel)",
   "language": "python",
   "name": "python3"
  },
  "language_info": {
   "codemirror_mode": {
    "name": "ipython",
    "version": 3
   },
   "file_extension": ".py",
   "mimetype": "text/x-python",
   "name": "python",
   "nbconvert_exporter": "python",
   "pygments_lexer": "ipython3",
   "version": "3.8.5"
  }
 },
 "nbformat": 4,
 "nbformat_minor": 4
}
