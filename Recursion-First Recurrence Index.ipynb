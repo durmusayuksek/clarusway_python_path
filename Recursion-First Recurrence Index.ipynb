{
 "cells": [
  {
   "cell_type": "markdown",
   "metadata": {},
   "source": [
    "```\n",
    "Create a recursive function that identifies the very first item that has recurred in the string argument passed. It returns the identified item with the index where it first appeared and the very next index where it resurfaced - entirely as an object; or an empty object if the passed argument is either None, an empty string, or no recurring item exists.\n",
    "\n",
    "Examples\n",
    "recur_index(\"KDXTDATTDD\") ➞ {\"D\": [1, 4]}\n",
    "// D first appeared at index 1, resurfaced at index 4\n",
    "//  though D resurfaced yet again at index 8, it's no longer significant\n",
    "// T appeared and resurfaced at indices 3 and 6 but D completed the cycle first\n",
    "\n",
    "recur_index(\"AKEDCBERSD\") ➞ {\"E\": [2, 6]}\n",
    "\n",
    "recur_index(\"DXKETRETXD\") ➞ {\"E\": [3, 6]}\n",
    "\n",
    "recur_index(\"ABCKPEPGBC\") ➞ {\"P\": [4, 6]}\n",
    "\n",
    "recur_index(\"ABCDEFGHIJ\") ➞ {}\n",
    "\n",
    "recur_index(None) ➞ {}\n",
    "```"
   ]
  },
  {
   "cell_type": "code",
   "execution_count": 136,
   "metadata": {},
   "outputs": [
    {
     "data": {
      "text/plain": [
       "{'E': [2, 6], 'D': [3, 9, 10, 11, 12, 13]}"
      ]
     },
     "execution_count": 136,
     "metadata": {},
     "output_type": "execute_result"
    }
   ],
   "source": [
    "def recur_index(text, a = 0, b = [], c = {}, d = [], e = ''):\n",
    "\n",
    "    if text is not None:\n",
    "        if text.count(text[a]) > 1:\n",
    "            if text[a] in c:\n",
    "                d[e.find(text[a])].append(a)\n",
    "                c[text[a]] = d[e.find(text[a])]\n",
    "            else:\n",
    "                b.append(a)\n",
    "                c[text[a]] = b\n",
    "                d.append(b)\n",
    "                e += text[a]\n",
    "                b = []\n",
    "            a += 1\n",
    "        else:\n",
    "            a += 1\n",
    "        if a == len(text):\n",
    "            return c\n",
    "        else:\n",
    "            return recur_index(text, a, b, c, d, e)\n",
    "    else:\n",
    "        return c\n",
    "    \n",
    "recur_index(\"AKEDCBERSDDDDD\")"
   ]
  },
  {
   "cell_type": "code",
   "execution_count": 135,
   "metadata": {},
   "outputs": [
    {
     "data": {
      "text/plain": [
       "{'E': [2, 6]}"
      ]
     },
     "execution_count": 135,
     "metadata": {},
     "output_type": "execute_result"
    }
   ],
   "source": [
    "def recur_index(text, a = 0, b = [], c = {}, d = [], e = ''):\n",
    "\n",
    "    if text is not None:\n",
    "        if text.count(text[a]) > 1:\n",
    "            if text[a] in c:\n",
    "                d[e.find(text[a])].append(a)\n",
    "                c[text[a]] = d[e.find(text[a])]\n",
    "            else:\n",
    "                b.append(a)\n",
    "                c[text[a]] = b\n",
    "                d.append(b)\n",
    "                e += text[a]\n",
    "                b = []\n",
    "            a += 1\n",
    "        else:\n",
    "            a += 1\n",
    "        if a == len(text):\n",
    "            if c == {}:\n",
    "                return c\n",
    "            else:\n",
    "                result = {}\n",
    "                for k,v in c.items():\n",
    "                    res = sorted(list(c.values()), key = lambda x : x[1])[0]\n",
    "                    if v == res:\n",
    "                        result[k] = res\n",
    "                        return result\n",
    "        else:\n",
    "            return recur_index(text, a, b, c, d, e)\n",
    "    else:\n",
    "        return c\n",
    "    \n",
    "recur_index(\"AKEDCBERSDDDDD\")"
   ]
  },
  {
   "cell_type": "code",
   "execution_count": null,
   "metadata": {},
   "outputs": [],
   "source": []
  }
 ],
 "metadata": {
  "kernelspec": {
   "display_name": "Python 3 (ipykernel)",
   "language": "python",
   "name": "python3"
  },
  "language_info": {
   "codemirror_mode": {
    "name": "ipython",
    "version": 3
   },
   "file_extension": ".py",
   "mimetype": "text/x-python",
   "name": "python",
   "nbconvert_exporter": "python",
   "pygments_lexer": "ipython3",
   "version": "3.8.5"
  }
 },
 "nbformat": 4,
 "nbformat_minor": 4
}
