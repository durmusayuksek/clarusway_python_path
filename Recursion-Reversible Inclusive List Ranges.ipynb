{
 "cells": [
  {
   "cell_type": "markdown",
   "metadata": {},
   "source": [
    "```\n",
    "Write a function that, given the start and end values, returns an array containing all the numbers inclusive to that range. See examples below.\n",
    "\n",
    "Examples\n",
    "reversible_inclusive_list(1, 5) ➞ [1, 2, 3, 4, 5]\n",
    "\n",
    "reversible_inclusive_list(2, 8) ➞ [2, 3, 4, 5, 6, 7, 8]\n",
    "\n",
    "reversible_inclusive_list(10, 20) ➞ [10, 11, 12, 13, 14, 15, 16, 17, 18, 19, 20]\n",
    "\n",
    "reversible_inclusive_list(24, 17) ➞ [24, 23, 22, 21, 20, 19, 18, 17]\n",
    "\n",
    "Notes\n",
    "The sort order of the resulting array is dependent of the input values.\n",
    "All inputs provided in the test scenarios are valid.\n",
    "If start is greater than end, return a descendingly sorted array, otherwise, ascendingly sorted.\n",
    "```"
   ]
  },
  {
   "cell_type": "code",
   "execution_count": 16,
   "metadata": {},
   "outputs": [
    {
     "data": {
      "text/plain": [
       "[24, 23, 22, 21, 20, 19, 18, 17]"
      ]
     },
     "execution_count": 16,
     "metadata": {},
     "output_type": "execute_result"
    }
   ],
   "source": [
    "def reversible_inclusive_list(x, y, z = []):\n",
    "    \n",
    "    z.append(x)\n",
    "    if z[-1] == y:\n",
    "        return z\n",
    "    if x > y:\n",
    "        return reversible_inclusive_list(x - 1, y, z)\n",
    "    else:\n",
    "        return reversible_inclusive_list(x + 1, y, z)\n",
    "\n",
    "reversible_inclusive_list(24,17)"
   ]
  },
  {
   "cell_type": "code",
   "execution_count": null,
   "metadata": {},
   "outputs": [],
   "source": []
  }
 ],
 "metadata": {
  "kernelspec": {
   "display_name": "Python 3 (ipykernel)",
   "language": "python",
   "name": "python3"
  },
  "language_info": {
   "codemirror_mode": {
    "name": "ipython",
    "version": 3
   },
   "file_extension": ".py",
   "mimetype": "text/x-python",
   "name": "python",
   "nbconvert_exporter": "python",
   "pygments_lexer": "ipython3",
   "version": "3.8.5"
  }
 },
 "nbformat": 4,
 "nbformat_minor": 4
}
